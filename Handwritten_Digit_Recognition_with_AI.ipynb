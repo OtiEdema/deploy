{
  "nbformat": 4,
  "nbformat_minor": 0,
  "metadata": {
    "colab": {
      "provenance": [],
      "gpuType": "T4",
      "mount_file_id": "1cbW0aNnOGdqMVoSUKE5miI2tVgxVqcm4",
      "authorship_tag": "ABX9TyOGDeCc47zjjRDftCHc36Oe",
      "include_colab_link": true
    },
    "kernelspec": {
      "name": "python3",
      "display_name": "Python 3"
    },
    "language_info": {
      "name": "python"
    },
    "accelerator": "GPU"
  },
  "cells": [
    {
      "cell_type": "markdown",
      "metadata": {
        "id": "view-in-github",
        "colab_type": "text"
      },
      "source": [
        "<a href=\"https://colab.research.google.com/github/OtiEdema/deploy/blob/main/Handwritten_Digit_Recognition_with_AI.ipynb\" target=\"_parent\"><img src=\"https://colab.research.google.com/assets/colab-badge.svg\" alt=\"Open In Colab\"/></a>"
      ]
    },
    {
      "cell_type": "markdown",
      "source": [
        "**Handwritten Digit Recognition with AI**"
      ],
      "metadata": {
        "id": "MPpjkiM6iFYp"
      }
    },
    {
      "cell_type": "code",
      "execution_count": 1,
      "metadata": {
        "id": "80XhbN0Ra5o2"
      },
      "outputs": [],
      "source": [
        "# Demonstrates how AI can recognise handwritten digits using a neural network.\n",
        "\n",
        "# Import necessary libraries\n",
        "import numpy as np\n",
        "import matplotlib.pyplot as plt\n",
        "from tensorflow.keras.datasets import mnist\n",
        "from tensorflow.keras.models import Sequential\n",
        "from tensorflow.keras.layers import Conv2D, MaxPooling2D, Flatten, Dense\n",
        "from tensorflow.keras.utils import to_categorical\n",
        "import cv2\n",
        "from google.colab import drive"
      ]
    },
    {
      "cell_type": "code",
      "source": [
        "# Load the MNIST dataset\n",
        "# The MNIST dataset contains 70,000 grayscale images of handwritten digits (0-9)\n",
        "(X_train, y_train), (X_test, y_test) = mnist.load_data()\n"
      ],
      "metadata": {
        "colab": {
          "base_uri": "https://localhost:8080/"
        },
        "id": "b5ORV8B9hBcg",
        "outputId": "3dddb525-572d-417c-b246-66b204b9fdd8"
      },
      "execution_count": 2,
      "outputs": [
        {
          "output_type": "stream",
          "name": "stdout",
          "text": [
            "Downloading data from https://storage.googleapis.com/tensorflow/tf-keras-datasets/mnist.npz\n",
            "\u001b[1m11490434/11490434\u001b[0m \u001b[32m━━━━━━━━━━━━━━━━━━━━\u001b[0m\u001b[37m\u001b[0m \u001b[1m0s\u001b[0m 0us/step\n"
          ]
        }
      ]
    },
    {
      "cell_type": "code",
      "source": [
        "# Preprocessing the data\n",
        "# Normalise the image data to scale pixel values between 0 and 1\n",
        "X_train = X_train / 255.0  # Normalize training data.\n",
        "X_test = X_test / 255.0  # Normalize test data."
      ],
      "metadata": {
        "id": "8SAAQPi0hBQ5"
      },
      "execution_count": 3,
      "outputs": []
    },
    {
      "cell_type": "code",
      "source": [
        "# Reshape the training and test data to fit the model input\n",
        "# Model expects input shape (None, 28, 28, 1) for grayscale images\n",
        "X_train = X_train.reshape(X_train.shape[0], 28, 28, 1)  # Reshape training data to have a single color channel.\n",
        "X_test = X_test.reshape(X_test.shape[0], 28, 28, 1)  # Reshape test data to have a single color channel."
      ],
      "metadata": {
        "id": "qDfAVV9NjGzx"
      },
      "execution_count": 4,
      "outputs": []
    },
    {
      "cell_type": "code",
      "source": [
        "# Convert labels to categorical format for training\n",
        "y_train = to_categorical(y_train, 10)  # Convert training labels to one-hot encoded format.\n",
        "y_test = to_categorical(y_test, 10)  # Convert test labels to one-hot encoded format."
      ],
      "metadata": {
        "id": "c8M6tknRjKCh"
      },
      "execution_count": 5,
      "outputs": []
    },
    {
      "cell_type": "code",
      "source": [
        "# Build a simple CNN model for MNIST digit classification\n",
        "model = Sequential([\n",
        "    Conv2D(32, (3, 3), activation='relu', input_shape=(28, 28, 1)),  # First convolutional layer with 32 filters and ReLU activation.\n",
        "    MaxPooling2D((2, 2)),  # Max pooling layer to reduce spatial dimensions.\n",
        "    Conv2D(64, (3, 3), activation='relu'),  # Second convolutional layer with 64 filters and ReLU activation.\n",
        "    MaxPooling2D((2, 2)),  # Another max pooling layer.\n",
        "    Flatten(),  # Flatten the 3D output to 1D for the dense layers.\n",
        "    Dense(64, activation='relu'),  # Fully connected layer with 64 neurons and ReLU activation.\n",
        "    Dense(10, activation='softmax')  # Output layer with 10 neurons for each digit (0-9) and softmax activation.\n",
        "])"
      ],
      "metadata": {
        "colab": {
          "base_uri": "https://localhost:8080/"
        },
        "id": "XPT0heAkjOix",
        "outputId": "e552a49b-4ae2-44e1-b308-5b3bf9b2e522"
      },
      "execution_count": 6,
      "outputs": [
        {
          "output_type": "stream",
          "name": "stderr",
          "text": [
            "/usr/local/lib/python3.10/dist-packages/keras/src/layers/convolutional/base_conv.py:107: UserWarning: Do not pass an `input_shape`/`input_dim` argument to a layer. When using Sequential models, prefer using an `Input(shape)` object as the first layer in the model instead.\n",
            "  super().__init__(activity_regularizer=activity_regularizer, **kwargs)\n"
          ]
        }
      ]
    },
    {
      "cell_type": "code",
      "source": [
        "# Compile the model\n",
        "model.compile(optimizer='adam', loss='categorical_crossentropy', metrics=['accuracy'])  # Compile the model with Adam optimizer and categorical crossentropy loss.\n",
        "\n"
      ],
      "metadata": {
        "id": "BYhwh6w3j53J"
      },
      "execution_count": 7,
      "outputs": []
    },
    {
      "cell_type": "code",
      "source": [
        "# Train the model on the MNIST training set\n",
        "model.fit(X_train, y_train, epochs=3, validation_data=(X_test, y_test))  # Train the model for 3 epochs with validation on the test set.\n"
      ],
      "metadata": {
        "colab": {
          "base_uri": "https://localhost:8080/"
        },
        "id": "nMn-l4JekEQh",
        "outputId": "624fea02-97bf-4ba7-e476-7a2c053a96c6"
      },
      "execution_count": 8,
      "outputs": [
        {
          "output_type": "stream",
          "name": "stdout",
          "text": [
            "Epoch 1/3\n",
            "\u001b[1m1875/1875\u001b[0m \u001b[32m━━━━━━━━━━━━━━━━━━━━\u001b[0m\u001b[37m\u001b[0m \u001b[1m13s\u001b[0m 4ms/step - accuracy: 0.9073 - loss: 0.3137 - val_accuracy: 0.9860 - val_loss: 0.0423\n",
            "Epoch 2/3\n",
            "\u001b[1m1875/1875\u001b[0m \u001b[32m━━━━━━━━━━━━━━━━━━━━\u001b[0m\u001b[37m\u001b[0m \u001b[1m4s\u001b[0m 2ms/step - accuracy: 0.9859 - loss: 0.0479 - val_accuracy: 0.9882 - val_loss: 0.0349\n",
            "Epoch 3/3\n",
            "\u001b[1m1875/1875\u001b[0m \u001b[32m━━━━━━━━━━━━━━━━━━━━\u001b[0m\u001b[37m\u001b[0m \u001b[1m7s\u001b[0m 3ms/step - accuracy: 0.9892 - loss: 0.0330 - val_accuracy: 0.9898 - val_loss: 0.0315\n"
          ]
        },
        {
          "output_type": "execute_result",
          "data": {
            "text/plain": [
              "<keras.src.callbacks.history.History at 0x7a172cfcb9a0>"
            ]
          },
          "metadata": {},
          "execution_count": 8
        }
      ]
    },
    {
      "cell_type": "code",
      "source": [
        "\n",
        "# Function to predict a custom handwritten digit image\n",
        "def predict_custom_image(image_path):\n",
        "    # Load the image from the specified path\n",
        "    image = cv2.imread(image_path, cv2.IMREAD_GRAYSCALE)  # Load the image in grayscale mode.\n",
        "    # Resize the image to 28x28 pixels\n",
        "    image = cv2.resize(image, (28, 28))  # Resize the image to match the input size expected by the model.\n",
        "    # Normalize the pixel values to scale between 0 and 1\n",
        "    image = image / 255.0  # Normalize pixel values.\n",
        "    # Reshape the image to fit the model input\n",
        "    image = image.reshape(1, 28, 28, 1)  # Reshape the image to add batch dimension and color channel.\n",
        "    # Make a prediction\n",
        "    predicted_label = np.argmax(model.predict(image))  # Predict the label and get the index of the highest probability.\n",
        "    # Visualize the image and prediction\n",
        "    plt.imshow(image.reshape(28, 28), cmap='gray')  # Display the image.\n",
        "    plt.title(f\"Predicted: {predicted_label}\")  # Display the predicted label.\n",
        "    plt.axis('off')  # Hide the axis.\n",
        "    plt.show()\n",
        "    # Output the result\n",
        "    print(f\"Model Prediction: {predicted_label}\")  # Print the predicted label.\n"
      ],
      "metadata": {
        "id": "Aq-C2JjIkYea"
      },
      "execution_count": 9,
      "outputs": []
    },
    {
      "cell_type": "markdown",
      "source": [],
      "metadata": {
        "id": "U8ZRb3Iokld5"
      }
    },
    {
      "cell_type": "markdown",
      "source": [
        "# Example usage"
      ],
      "metadata": {
        "id": "_P6G7RBxkqDR"
      }
    },
    {
      "cell_type": "code",
      "source": [
        "# Provide the path to a handwritten digit image stored in your Google Drive\n",
        "# Replace 'your_image_path.jpg' with the actual path to your image\n",
        "custom_image_path = '/content/drive/MyDrive/files/42.jpg'  # Path to the custom image in Google Drive.\n",
        "predict_custom_image(custom_image_path)  # Predict the custom image.\n"
      ],
      "metadata": {
        "id": "NbYjH4qIk2LJ",
        "colab": {
          "base_uri": "https://localhost:8080/",
          "height": 463
        },
        "outputId": "d15613d7-44e3-4a36-9ca7-0e9fca83e86a"
      },
      "execution_count": 10,
      "outputs": [
        {
          "output_type": "stream",
          "name": "stdout",
          "text": [
            "\u001b[1m1/1\u001b[0m \u001b[32m━━━━━━━━━━━━━━━━━━━━\u001b[0m\u001b[37m\u001b[0m \u001b[1m1s\u001b[0m 558ms/step\n"
          ]
        },
        {
          "output_type": "display_data",
          "data": {
            "text/plain": [
              "<Figure size 640x480 with 1 Axes>"
            ],
            "image/png": "[encoded data removed]"
          },
          "metadata": {}
        },
        {
          "output_type": "stream",
          "name": "stdout",
          "text": [
            "Model Prediction: 4\n"
          ]
        }
      ]
    },
    {
      "cell_type": "code",
      "source": [
        "# Select a random image from the test set\n",
        "index = np.random.randint(0, len(X_test))  # Select a random index from the test set.\n",
        "test_image = X_test[index]  # Get the test image at the selected index.\n",
        "true_label = np.argmax(y_test[index])  # Get the true label of the test image."
      ],
      "metadata": {
        "id": "KYPDc_rgNq8o"
      },
      "execution_count": 11,
      "outputs": []
    },
    {
      "cell_type": "code",
      "source": [
        "# Make a prediction\n",
        "predicted_label = np.argmax(model.predict(test_image.reshape(1, 28, 28, 1)))  # Predict the label of the test image.\n"
      ],
      "metadata": {
        "id": "s_KIcCOQNv9M",
        "colab": {
          "base_uri": "https://localhost:8080/"
        },
        "outputId": "bb04c32f-ad70-45ad-cf33-e3ec2c67747b"
      },
      "execution_count": 12,
      "outputs": [
        {
          "output_type": "stream",
          "name": "stdout",
          "text": [
            "\u001b[1m1/1\u001b[0m \u001b[32m━━━━━━━━━━━━━━━━━━━━\u001b[0m\u001b[37m\u001b[0m \u001b[1m0s\u001b[0m 17ms/step\n"
          ]
        }
      ]
    },
    {
      "cell_type": "code",
      "source": [
        "# Visualize the test image and prediction\n",
        "plt.imshow(test_image.reshape(28, 28), cmap='gray')  # Display the test image.\n",
        "plt.title(f\"Predicted: {predicted_label}, True: {true_label}\")  # Display the predicted and true labels.\n",
        "plt.axis('off')  # Hide the axis.\n",
        "plt.show()"
      ],
      "metadata": {
        "id": "9QPyFqp9N1d4",
        "colab": {
          "base_uri": "https://localhost:8080/",
          "height": 428
        },
        "outputId": "13959c5a-5ca6-48cb-95c4-3c60d498c613"
      },
      "execution_count": 13,
      "outputs": [
        {
          "output_type": "display_data",
          "data": {
            "text/plain": [
              "<Figure size 640x480 with 1 Axes>"
            ],
            "image/png": "[encoded data removed]"
          },
          "metadata": {}
        }
      ]
    },
    {
      "cell_type": "code",
      "source": [
        "# Output the result\n",
        "print(f\"Model Prediction: {predicted_label}\")  # Print the predicted label.\n",
        "print(f\"Actual Label: {true_label}\")  # Print the true label.\n"
      ],
      "metadata": {
        "id": "BrRwKqrrN2kQ",
        "colab": {
          "base_uri": "https://localhost:8080/"
        },
        "outputId": "61117fcc-a0e1-4622-b33c-e1db51190687"
      },
      "execution_count": 14,
      "outputs": [
        {
          "output_type": "stream",
          "name": "stdout",
          "text": [
            "Model Prediction: 6\n",
            "Actual Label: 6\n"
          ]
        }
      ]
    }
  ]
}