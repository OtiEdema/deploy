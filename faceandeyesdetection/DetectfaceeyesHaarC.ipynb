{
 "cells": [
  {
   "cell_type": "markdown",
   "id": "7c119c26-f77a-4cd9-a39a-a698d4927e15",
   "metadata": {},
   "source": [
    "# Face & Eye Detection using HAAR Cascade Classifiers"
   ]
  },
  {
   "cell_type": "markdown",
   "id": "1193acb0-9bad-4c25-8d1a-2bce3031e64f",
   "metadata": {},
   "source": [
    "1. Importing Necessary Libraries"
   ]
  },
  {
   "cell_type": "code",
   "execution_count": 25,
   "id": "f39785ea-b0c7-4745-a59b-05ba805fe116",
   "metadata": {},
   "outputs": [],
   "source": [
    "import cv2  # OpenCV library for computer vision tasks\n",
    "import numpy as np"
   ]
  },
  {
   "cell_type": "markdown",
   "id": "8fff3c60-6754-4835-a961-6c22b78a38b5",
   "metadata": {},
   "source": [
    "2. Load HAAR Cascade Classifiers"
   ]
  },
  {
   "cell_type": "markdown",
   "id": "32f12678-908f-4162-8230-f5620b72f206",
   "metadata": {},
   "source": [
    "Load the pre-trained HAAR Cascade classifiers for face and eye detection. OpenCV provides these XML files."
   ]
  },
  {
   "cell_type": "code",
   "execution_count": 35,
   "id": "45b41952-f7b4-42b6-ad3b-6da9753b9c2a",
   "metadata": {},
   "outputs": [],
   "source": [
    "face_classifier = cv2.CascadeClassifier('C:/projects/facedetect/Haarcascades/haarcascade_frontalface_default.xml')\n",
    "eye_classifier = cv2.CascadeClassifier('C:/projects/facedetect/Haarcascades/haarcascade_eye.xml')\n",
    "\n",
    "# Check if classifiers are loaded properly\n",
    "if face_classifier.empty():\n",
    "    raise IOError(\"Failed to load face classifier xml file. Check the path.\")\n",
    "\n",
    "if eye_classifier.empty():\n",
    "    raise IOError(\"Failed to load eye classifier xml file. Check the path.\")\n"
   ]
  },
  {
   "cell_type": "markdown",
   "id": "8285e30d-6b8a-48fb-8898-754e8ec115c7",
   "metadata": {},
   "source": [
    "3. Load the image, resize and convert it to grayscale."
   ]
  },
  {
   "cell_type": "code",
   "execution_count": 49,
   "id": "cb299a24-2855-415f-86ac-2a8da309c791",
   "metadata": {},
   "outputs": [],
   "source": [
    "# Read the input image\n",
    "image_path = 'C:/projects/facedetect/pic1.jpg'\n",
    "image = cv2.imread(image_path)\n",
    "if image is None:\n",
    "    raise FileNotFoundError(\"Image file not found. Please check the path.\")\n",
    "\n",
    "# Resize the image for easier display\n",
    "scale_percent = 50  # percent of original size\n",
    "width = int(image.shape[1] * scale_percent / 100)\n",
    "height = int(image.shape[0] * scale_percent / 100)\n",
    "dim = (width, height)\n",
    "resized_image = cv2.resize(image, dim, interpolation=cv2.INTER_AREA)\n",
    "gray = cv2.cvtColor(resized_image, cv2.COLOR_BGR2GRAY)"
   ]
  },
  {
   "cell_type": "markdown",
   "id": "888ec9d5-ef0e-481d-b519-82925e8717d6",
   "metadata": {},
   "source": [
    "4. Detect faces in the grayscale image"
   ]
  },
  {
   "cell_type": "code",
   "execution_count": 50,
   "id": "29add924-491c-46e0-989d-2ef89b2fe427",
   "metadata": {},
   "outputs": [],
   "source": [
    "# Detect faces in the grayscale image\n",
    "faces = face_classifier.detectMultiScale(gray, scaleFactor=1.1, minNeighbors=5, minSize=(30, 30))\n",
    "\n",
    "# If no faces are detected, face_classifier returns an empty list\n",
    "if len(faces) == 0:\n",
    "    print(\"No faces found\")\n",
    "else:\n",
    "    # Iterate through faces array and draw a rectangle over each face\n",
    "    for (x, y, w, h) in faces:\n",
    "        cv2.rectangle(resized_image, (x, y), (x + w, y + h), (127, 0, 255), 2)\n",
    "        roi_gray = gray[y:y + h, x:x + w]\n",
    "        roi_color = resized_image[y:y + h, x:x + w]\n",
    "\n",
    "        # Detect eyes within the detected face region\n",
    "        eyes = eye_classifier.detectMultiScale(roi_gray, scaleFactor=1.1, minNeighbors=5, minSize=(20, 20))\n",
    "        for (ex, ey, ew, eh) in eyes:\n",
    "            cv2.rectangle(roi_color, (ex, ey), (ex + ew, ey + eh), (0, 255, 0), 2)\n"
   ]
  },
  {
   "cell_type": "markdown",
   "id": "757020f6-0841-456c-a29c-5b54d9d372cd",
   "metadata": {},
   "source": [
    "5. Display result"
   ]
  },
  {
   "cell_type": "code",
   "execution_count": 52,
   "id": "b8ca5366-1c3a-452d-ad9b-a85d7281a217",
   "metadata": {},
   "outputs": [],
   "source": [
    "# Display the output image with detected faces and eyes\n",
    "while True:\n",
    "    cv2.imshow('Face and Eye Detection', resized_image)\n",
    "    if cv2.waitKey(1) & 0xFF == ord('q'):  # Press 'q' to quit the display window\n",
    "        break\n",
    "\n",
    "cv2.destroyAllWindows()"
   ]
  },
  {
   "cell_type": "code",
   "execution_count": null,
   "id": "4f18eb71-c6a0-411e-ad67-819d85228020",
   "metadata": {},
   "outputs": [],
   "source": []
  }
 ],
 "metadata": {
  "kernelspec": {
   "display_name": "Python 3 (ipykernel)",
   "language": "python",
   "name": "python3"
  },
  "language_info": {
   "codemirror_mode": {
    "name": "ipython",
    "version": 3
   },
   "file_extension": ".py",
   "mimetype": "text/x-python",
   "name": "python",
   "nbconvert_exporter": "python",
   "pygments_lexer": "ipython3",
   "version": "3.11.7"
  }
 },
 "nbformat": 4,
 "nbformat_minor": 5
}
